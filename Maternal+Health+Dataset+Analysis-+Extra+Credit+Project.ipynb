{
 "cells": [
  {
   "cell_type": "markdown",
   "metadata": {},
   "source": [
    "#                                Maternal Health Risk Assesment\n"
   ]
  },
  {
   "cell_type": "markdown",
   "metadata": {},
   "source": [
    "# Reasoning Behind Choosing The Dataset\n",
    "In Bangladesh there are a lot of birth related complicacies that occur in the rural level. Due to the socio economical state of the family, infrastructure and lack of proper access to health care, the country sees around 173 maternal deaths per 100,000 live births in Bangladesh as seen in [World Bank Data](https://data.worldbank.org/indicator/SH.STA.MMRT?locations=BD). Thus we are falling behind from the SDG Goal of reducing the global maternal mortality ratio to 70 deaths per 100,000 live births by 2030. My focus was to find a dataset that generated from the rural areas of Bangladesh, where the variables can be used to group expecting mothers in different risk clusters. This preliminary analysis can be a gateway to create a model that can be used to classify a particular woman in different cluster so that we can decide who should get extra care during the pregancy period thus reducing the chance of mortality during child birth. The Dataset was obtained from the Machine Learning Data Repository of UCI titled [Maternal Health Risk Data Set Data Set](https://archive.ics.uci.edu/ml/datasets/Maternal+Health+Risk+Data+Set).The Data has been collected from different hospitals, community clinics, maternal health cares from the rural areas of Bangladesh through the IoT based risk monitoring system.\n"
   ]
  },
  {
   "cell_type": "markdown",
   "metadata": {},
   "source": [
    "# The Problem Goal : Categorizing expecting mothers in Different Risk Clusters\n",
    "\n",
    "The goal of this notebook analysis is to do some preliminary data analysis to understand the data(Null Value/Class Imbalance etc.), Data Visualization to get insights and Lastly preparing the data for Logistic Regression taught in our course and lastly using scikit-learn's own [logistic regression library](https://scikit-learn.org/stable/modules/generated/sklearn.linear_model.LogisticRegression.html) to cluster the sample data points.\n"
   ]
  },
  {
   "cell_type": "markdown",
   "metadata": {},
   "source": [
    "# Dataset Description\n",
    "Attribute Information:\n",
    "\n",
    "1. Age: Any ages in years when a women during pregnant.\n",
    "2. SystolicBP: Upper value of Blood Pressure in mmHg, another significant attribute during pregnancy.\n",
    "3. DiastolicBP: Lower value of Blood Pressure in mmHg, another significant attribute during pregnancy.\n",
    "4. BS: Blood glucose levels is in terms of a molar concentration, mmol/L.\n",
    "5. HeartRate: A normal resting heart rate in beats per minute.\n",
    "6. Risk Level: Predicted Risk Intensity Level during pregnancy considering the previous attribute.\n"
   ]
  },
  {
   "cell_type": "markdown",
   "metadata": {},
   "source": [
    "# Initial Setup\n",
    "Run the following code cell to load the utilities used for analysis and visualization "
   ]
  },
  {
   "cell_type": "code",
   "execution_count": 283,
   "metadata": {
    "collapsed": true
   },
   "outputs": [],
   "source": [
    "import pandas as pd\n",
    "import numpy as np\n",
    "import matplotlib.pyplot as plt\n",
    "import seaborn as sns\n",
    "%matplotlib inline"
   ]
  },
  {
   "cell_type": "markdown",
   "metadata": {},
   "source": [
    "# Data Loading and Preliminary Analysis\n",
    "First we will load the dataset which is inside the workspace, then try to see if the data contains any anamoly such as duplicates or null values. "
   ]
  },
  {
   "cell_type": "code",
   "execution_count": 284,
   "metadata": {
    "collapsed": true
   },
   "outputs": [],
   "source": [
    "df=pd.read_csv(\"Maternal Health Risk Data Set.csv\")"
   ]
  },
  {
   "cell_type": "code",
   "execution_count": 285,
   "metadata": {},
   "outputs": [
    {
     "data": {
      "text/html": [
       "<div>\n",
       "<style scoped>\n",
       "    .dataframe tbody tr th:only-of-type {\n",
       "        vertical-align: middle;\n",
       "    }\n",
       "\n",
       "    .dataframe tbody tr th {\n",
       "        vertical-align: top;\n",
       "    }\n",
       "\n",
       "    .dataframe thead th {\n",
       "        text-align: right;\n",
       "    }\n",
       "</style>\n",
       "<table border=\"1\" class=\"dataframe\">\n",
       "  <thead>\n",
       "    <tr style=\"text-align: right;\">\n",
       "      <th></th>\n",
       "      <th>Age</th>\n",
       "      <th>SystolicBP</th>\n",
       "      <th>DiastolicBP</th>\n",
       "      <th>BS</th>\n",
       "      <th>BodyTemp</th>\n",
       "      <th>HeartRate</th>\n",
       "      <th>RiskLevel</th>\n",
       "    </tr>\n",
       "  </thead>\n",
       "  <tbody>\n",
       "    <tr>\n",
       "      <th>0</th>\n",
       "      <td>25</td>\n",
       "      <td>130</td>\n",
       "      <td>80</td>\n",
       "      <td>15.0</td>\n",
       "      <td>98.0</td>\n",
       "      <td>86</td>\n",
       "      <td>high risk</td>\n",
       "    </tr>\n",
       "    <tr>\n",
       "      <th>1</th>\n",
       "      <td>35</td>\n",
       "      <td>140</td>\n",
       "      <td>90</td>\n",
       "      <td>13.0</td>\n",
       "      <td>98.0</td>\n",
       "      <td>70</td>\n",
       "      <td>high risk</td>\n",
       "    </tr>\n",
       "    <tr>\n",
       "      <th>2</th>\n",
       "      <td>29</td>\n",
       "      <td>90</td>\n",
       "      <td>70</td>\n",
       "      <td>8.0</td>\n",
       "      <td>100.0</td>\n",
       "      <td>80</td>\n",
       "      <td>high risk</td>\n",
       "    </tr>\n",
       "    <tr>\n",
       "      <th>3</th>\n",
       "      <td>30</td>\n",
       "      <td>140</td>\n",
       "      <td>85</td>\n",
       "      <td>7.0</td>\n",
       "      <td>98.0</td>\n",
       "      <td>70</td>\n",
       "      <td>high risk</td>\n",
       "    </tr>\n",
       "    <tr>\n",
       "      <th>4</th>\n",
       "      <td>35</td>\n",
       "      <td>120</td>\n",
       "      <td>60</td>\n",
       "      <td>6.1</td>\n",
       "      <td>98.0</td>\n",
       "      <td>76</td>\n",
       "      <td>low risk</td>\n",
       "    </tr>\n",
       "    <tr>\n",
       "      <th>...</th>\n",
       "      <td>...</td>\n",
       "      <td>...</td>\n",
       "      <td>...</td>\n",
       "      <td>...</td>\n",
       "      <td>...</td>\n",
       "      <td>...</td>\n",
       "      <td>...</td>\n",
       "    </tr>\n",
       "    <tr>\n",
       "      <th>1009</th>\n",
       "      <td>22</td>\n",
       "      <td>120</td>\n",
       "      <td>60</td>\n",
       "      <td>15.0</td>\n",
       "      <td>98.0</td>\n",
       "      <td>80</td>\n",
       "      <td>high risk</td>\n",
       "    </tr>\n",
       "    <tr>\n",
       "      <th>1010</th>\n",
       "      <td>55</td>\n",
       "      <td>120</td>\n",
       "      <td>90</td>\n",
       "      <td>18.0</td>\n",
       "      <td>98.0</td>\n",
       "      <td>60</td>\n",
       "      <td>high risk</td>\n",
       "    </tr>\n",
       "    <tr>\n",
       "      <th>1011</th>\n",
       "      <td>35</td>\n",
       "      <td>85</td>\n",
       "      <td>60</td>\n",
       "      <td>19.0</td>\n",
       "      <td>98.0</td>\n",
       "      <td>86</td>\n",
       "      <td>high risk</td>\n",
       "    </tr>\n",
       "    <tr>\n",
       "      <th>1012</th>\n",
       "      <td>43</td>\n",
       "      <td>120</td>\n",
       "      <td>90</td>\n",
       "      <td>18.0</td>\n",
       "      <td>98.0</td>\n",
       "      <td>70</td>\n",
       "      <td>high risk</td>\n",
       "    </tr>\n",
       "    <tr>\n",
       "      <th>1013</th>\n",
       "      <td>32</td>\n",
       "      <td>120</td>\n",
       "      <td>65</td>\n",
       "      <td>6.0</td>\n",
       "      <td>101.0</td>\n",
       "      <td>76</td>\n",
       "      <td>mid risk</td>\n",
       "    </tr>\n",
       "  </tbody>\n",
       "</table>\n",
       "<p>1014 rows × 7 columns</p>\n",
       "</div>"
      ],
      "text/plain": [
       "      Age  SystolicBP  DiastolicBP    BS  BodyTemp  HeartRate  RiskLevel\n",
       "0      25         130           80  15.0      98.0         86  high risk\n",
       "1      35         140           90  13.0      98.0         70  high risk\n",
       "2      29          90           70   8.0     100.0         80  high risk\n",
       "3      30         140           85   7.0      98.0         70  high risk\n",
       "4      35         120           60   6.1      98.0         76   low risk\n",
       "...   ...         ...          ...   ...       ...        ...        ...\n",
       "1009   22         120           60  15.0      98.0         80  high risk\n",
       "1010   55         120           90  18.0      98.0         60  high risk\n",
       "1011   35          85           60  19.0      98.0         86  high risk\n",
       "1012   43         120           90  18.0      98.0         70  high risk\n",
       "1013   32         120           65   6.0     101.0         76   mid risk\n",
       "\n",
       "[1014 rows x 7 columns]"
      ]
     },
     "metadata": {},
     "output_type": "display_data"
    }
   ],
   "source": [
    "display(df)"
   ]
  },
  {
   "cell_type": "code",
   "execution_count": 286,
   "metadata": {},
   "outputs": [
    {
     "name": "stdout",
     "output_type": "stream",
     "text": [
      "<class 'pandas.core.frame.DataFrame'>\n",
      "RangeIndex: 1014 entries, 0 to 1013\n",
      "Data columns (total 7 columns):\n",
      " #   Column       Non-Null Count  Dtype  \n",
      "---  ------       --------------  -----  \n",
      " 0   Age          1014 non-null   int64  \n",
      " 1   SystolicBP   1014 non-null   int64  \n",
      " 2   DiastolicBP  1014 non-null   int64  \n",
      " 3   BS           1014 non-null   float64\n",
      " 4   BodyTemp     1014 non-null   float64\n",
      " 5   HeartRate    1014 non-null   int64  \n",
      " 6   RiskLevel    1014 non-null   object \n",
      "dtypes: float64(2), int64(4), object(1)\n",
      "memory usage: 55.6+ KB\n"
     ]
    }
   ],
   "source": [
    "df.info()"
   ]
  },
  {
   "cell_type": "markdown",
   "metadata": {
    "collapsed": true
   },
   "source": [
    "# Comments from .info() \n",
    "We can see from the info of the dataset that there are no null values present in the dataset. There are 6 numerical columns and one categorical column which is our dependent/target variable."
   ]
  },
  {
   "cell_type": "markdown",
   "metadata": {
    "collapsed": true
   },
   "source": [
    "# Visualization\n",
    "\n",
    "We want to see how the data is distributed here. First we will focus on the value distribution of Target variable \"Risk Level\". After that we will try to find the correlation with the values of risk level with the other attributes such as Age,BloodPressures etc."
   ]
  },
  {
   "cell_type": "code",
   "execution_count": 287,
   "metadata": {},
   "outputs": [
    {
     "data": {
      "text/plain": [
       "<AxesSubplot:xlabel='RiskLevel', ylabel='count'>"
      ]
     },
     "execution_count": 287,
     "metadata": {},
     "output_type": "execute_result"
    },
    {
     "data": {
      "image/png": "[encoded data removed]",
      "text/plain": [
       "<Figure size 432x288 with 1 Axes>"
      ]
     },
     "metadata": {
      "needs_background": "light"
     },
     "output_type": "display_data"
    }
   ],
   "source": [
    "sns.countplot(data=df,x='RiskLevel')"
   ]
  },
  {
   "cell_type": "markdown",
   "metadata": {},
   "source": [
    "We can see that the risk levels are distributed fairly in an uniform manner with the number of high risk being the lowest."
   ]
  },
  {
   "cell_type": "code",
   "execution_count": 288,
   "metadata": {},
   "outputs": [
    {
     "data": {
      "text/plain": [
       "<AxesSubplot:xlabel='Age', ylabel='Count'>"
      ]
     },
     "execution_count": 288,
     "metadata": {},
     "output_type": "execute_result"
    },
    {
     "data": {
      "image/png": "[encoded data removed]",
      "text/plain": [
       "<Figure size 432x288 with 1 Axes>"
      ]
     },
     "metadata": {
      "needs_background": "light"
     },
     "output_type": "display_data"
    }
   ],
   "source": [
    "sns.histplot(df['Age'],bins=5,kde=True)"
   ]
  },
  {
   "cell_type": "markdown",
   "metadata": {},
   "source": [
    "We can see the age distribution is mostly peaks at the age between 15-25. We can see the distribution of the age from the code cell below."
   ]
  },
  {
   "cell_type": "code",
   "execution_count": 289,
   "metadata": {},
   "outputs": [
    {
     "data": {
      "text/plain": [
       "(9.939, 16.0]    130\n",
       "(16.0, 22.0]     254\n",
       "(22.0, 28.0]     162\n",
       "(28.0, 34.0]     150\n",
       "(34.0, 40.0]     103\n",
       "(40.0, 46.0]      42\n",
       "(46.0, 52.0]      79\n",
       "(52.0, 58.0]      50\n",
       "(58.0, 64.0]      39\n",
       "(64.0, 70.0]       5\n",
       "Name: Age, dtype: int64"
      ]
     },
     "execution_count": 289,
     "metadata": {},
     "output_type": "execute_result"
    }
   ],
   "source": [
    "df[df['Age']<75]['Age'].value_counts(bins=10).sort_index()"
   ]
  },
  {
   "cell_type": "code",
   "execution_count": 290,
   "metadata": {},
   "outputs": [
    {
     "data": {
      "text/plain": [
       "<AxesSubplot:xlabel='BS', ylabel='Age'>"
      ]
     },
     "execution_count": 290,
     "metadata": {},
     "output_type": "execute_result"
    },
    {
     "data": {
      "image/png": "[encoded data removed]",
      "text/plain": [
       "<Figure size 432x288 with 1 Axes>"
      ]
     },
     "metadata": {
      "needs_background": "light"
     },
     "output_type": "display_data"
    }
   ],
   "source": [
    "sns.scatterplot(y=df['Age'],x=df['BS'],hue=df['RiskLevel'])"
   ]
  },
  {
   "cell_type": "code",
   "execution_count": 291,
   "metadata": {},
   "outputs": [
    {
     "data": {
      "text/plain": [
       "<AxesSubplot:xlabel='RiskLevel', ylabel='HeartRate'>"
      ]
     },
     "execution_count": 291,
     "metadata": {},
     "output_type": "execute_result"
    },
    {
     "data": {
      "image/png": "[encoded data removed]",
      "text/plain": [
       "<Figure size 432x288 with 1 Axes>"
      ]
     },
     "metadata": {
      "needs_background": "light"
     },
     "output_type": "display_data"
    }
   ],
   "source": [
    "sns.violinplot(data=df,y='HeartRate',x='RiskLevel')"
   ]
  },
  {
   "cell_type": "markdown",
   "metadata": {},
   "source": [
    "From the above two diagrams , we can see a clear distinction where higher Blood Sugar and Heart Rate leads to greater Risk"
   ]
  },
  {
   "cell_type": "markdown",
   "metadata": {},
   "source": [
    "# Data Cleaning And Preparation\n",
    "\n",
    "\n"
   ]
  },
  {
   "cell_type": "markdown",
   "metadata": {
    "collapsed": true
   },
   "source": [
    "As for data cleaning and preparation, the categorical values of RiskLevel column needs to be converted to numerical values where high=1, mid=0, low=0. This is done because, the Logistric Regression needs the dependent variable(which in this case is RiskLevel) to be numerical. So we are going to cluster the lables either in 1 or 0."
   ]
  },
  {
   "cell_type": "code",
   "execution_count": 292,
   "metadata": {},
   "outputs": [
    {
     "data": {
      "text/plain": [
       "{0, 1}"
      ]
     },
     "execution_count": 292,
     "metadata": {},
     "output_type": "execute_result"
    }
   ],
   "source": [
    "data_col={'high risk':1,'mid risk':0,'low risk':0}\n",
    "df['RiskLevel']=df['RiskLevel'].replace(data_col)\n",
    "set(df['RiskLevel'].values)"
   ]
  },
  {
   "cell_type": "markdown",
   "metadata": {},
   "source": [
    "In an earlier cell , we saw that there are birth records where age is between 55-70. These records can be termed as 'outliers' or mistakes. Thus we are going to take average of the age values from 30-70 and replace those values with that mean value."
   ]
  },
  {
   "cell_type": "code",
   "execution_count": 293,
   "metadata": {},
   "outputs": [
    {
     "name": "stdout",
     "output_type": "stream",
     "text": [
      "The Mean Value is :43.88413098236776\n"
     ]
    }
   ],
   "source": [
    "mean_val=df[(df['Age']>30) & (df['Age']<70)]['Age'].mean()\n",
    "print(\"The Mean Value is :{}\".format( mean_val))\n",
    "df.loc[(df['Age']>55) & (df['Age']<70),'Age']=mean_val\n",
    "\n"
   ]
  },
  {
   "cell_type": "markdown",
   "metadata": {},
   "source": [
    "# Logistic Regression"
   ]
  },
  {
   "cell_type": "markdown",
   "metadata": {},
   "source": [
    "First we will seperate the features and the labels(RiskLevel). We want to keep a certain amount of data separate , which is going to be used for testing purposes. We will choose that number to be 80% of the actual amount of data. "
   ]
  },
  {
   "cell_type": "code",
   "execution_count": 294,
   "metadata": {},
   "outputs": [
    {
     "data": {
      "text/plain": [
       "array([[ 25., 130.,  80., ...,  98.,  86.,   1.],\n",
       "       [ 35., 140.,  90., ...,  98.,  70.,   1.],\n",
       "       [ 29.,  90.,  70., ..., 100.,  80.,   1.],\n",
       "       ...,\n",
       "       [ 35.,  85.,  60., ...,  98.,  86.,   1.],\n",
       "       [ 43., 120.,  90., ...,  98.,  70.,   1.],\n",
       "       [ 32., 120.,  65., ..., 101.,  76.,   1.]])"
      ]
     },
     "metadata": {},
     "output_type": "display_data"
    },
    {
     "data": {
      "text/plain": [
       "array([[1],\n",
       "       [1],\n",
       "       [1],\n",
       "       ...,\n",
       "       [1],\n",
       "       [1],\n",
       "       [0]])"
      ]
     },
     "metadata": {},
     "output_type": "display_data"
    }
   ],
   "source": [
    "\n",
    "X=np.insert(df.iloc[:,:-1].values,len(df.columns)-1,1.0,axis=1)\n",
    "y=df['RiskLevel'].values[:,np.newaxis]\n",
    "display(X)\n",
    "display(y)\n"
   ]
  },
  {
   "cell_type": "code",
   "execution_count": 295,
   "metadata": {},
   "outputs": [
    {
     "name": "stdout",
     "output_type": "stream",
     "text": [
      "The original size of the dataset is 1014\n",
      "the test sample size is 811\n",
      "the number of record in sample_x is 811 and in sample_y is 811\n",
      "the number of record in test_x is 203 and in test_y is 203\n"
     ]
    }
   ],
   "source": [
    "sample_num=round(len(X)*.8)\n",
    "print('The original size of the dataset is {}'.format(len(X)))\n",
    "print('the test sample size is {}'.format(sample_num))\n",
    "sample_x=X[:sample_num]\n",
    "sample_y=y[:sample_num]\n",
    "print('the number of record in sample_x is {} and in sample_y is {}'.format(len(sample_x),len(sample_y)))\n",
    "#test_num=len(X)-sample_num\n",
    "test_x=X[sample_num:]\n",
    "test_y=y[sample_num:]\n",
    "print('the number of record in test_x is {} and in test_y is {}'.format(len(test_x),len(test_y)))"
   ]
  },
  {
   "cell_type": "markdown",
   "metadata": {},
   "source": [
    "## Now we will create the sigmoid function, gradient function to get optimal theta values and the linear discriminant function  needed for logisitic regression below. We will also need the log likelihood function that will be required to do the gradient descent evaluation of theta.  "
   ]
  },
  {
   "cell_type": "code",
   "execution_count": 296,
   "metadata": {
    "collapsed": true
   },
   "outputs": [],
   "source": [
    "def lin_discr (X, theta):\n",
    "    y=np.dot(theta.T,X.T)\n",
    "    return y.T"
   ]
  },
  {
   "cell_type": "code",
   "execution_count": 297,
   "metadata": {
    "collapsed": true
   },
   "outputs": [],
   "source": [
    "def logistic(X,theta):\n",
    "    Y=np.dot(theta.T,X.T)\n",
    "    G_y=1/(1+np.exp(-Y))\n",
    "    #print(G_y)\n",
    "    return G_y"
   ]
  },
  {
   "cell_type": "code",
   "execution_count": 298,
   "metadata": {
    "collapsed": true
   },
   "outputs": [],
   "source": [
    "def grad_log_likelihood(theta, y, X):\n",
    "    s=np.dot(X,theta)\n",
    "    ina=1/(1+np.exp(-s))\n",
    "    t=np.dot(X.T,y)-np.dot(X.T,ina)\n",
    "    return t"
   ]
  },
  {
   "cell_type": "code",
   "execution_count": 299,
   "metadata": {
    "collapsed": true
   },
   "outputs": [],
   "source": [
    "def ret_theta(X,y):\n",
    "    ALPHA = 0.1\n",
    "    MAX_STEP = 5000\n",
    "\n",
    "    # Get the data coordinate matrix, X, and labels vector, y\n",
    "    w = X\n",
    "    f = y.astype(dtype=float)\n",
    "    #print(w)\n",
    "    #print(f)\n",
    "    record,attribute=w.shape\n",
    "    #print(attribute)\n",
    "    #print(X)\n",
    "    #print(y)\n",
    "\n",
    "    # Store *all* guesses, for subsequent analysis\n",
    "    thetas = np.zeros((7, MAX_STEP+1))\n",
    "    #print(thetas.shape)\n",
    "\n",
    "    for t in range(MAX_STEP):\n",
    "        # Fill in the code to compute thetas[:, t+1:t+2]\n",
    "        theta_last = thetas[:, t:t+1]\n",
    "        gradient = grad_log_likelihood(theta_last, f, w)\n",
    "        step = ALPHA * (gradient / (np.linalg.norm(gradient, ord=None)))\n",
    "        update = theta_last + step\n",
    "        #print(update)\n",
    "        thetas[:, t+1:t+2] = update\n",
    "    \n",
    "    op_theta=thetas[:,MAX_STEP]\n",
    "    \n",
    "    #print(op_theta)\n",
    "    return op_theta\n",
    "        # Fill in the code to compute thetas[:, t+1:t+2]\n",
    "        ###\n",
    "        ### YOUR CODE HERE\n",
    "        ###"
   ]
  },
  {
   "cell_type": "code",
   "execution_count": 300,
   "metadata": {},
   "outputs": [],
   "source": [
    "thetas=ret_theta(sample_x,sample_y)"
   ]
  },
  {
   "cell_type": "code",
   "execution_count": 301,
   "metadata": {},
   "outputs": [
    {
     "name": "stdout",
     "output_type": "stream",
     "text": [
      "The values of thetas are [-0.040346    0.02304309  0.03476693  0.75257299 -0.17177448  0.07367455\n",
      " -0.05128863]\n"
     ]
    }
   ],
   "source": [
    "print('The values of thetas are {}'.format(thetas))"
   ]
  },
  {
   "cell_type": "code",
   "execution_count": 302,
   "metadata": {
    "collapsed": true
   },
   "outputs": [],
   "source": [
    "def log_heav(Y):\n",
    "    return [1 if i >= 0.5 else 0 for i in Y]\n",
    "def heaviside(Y):\n",
    "    s=np.heaviside(Y,0)\n",
    "    return s\n",
    "    \n",
    "def heaviside_int(Y):\n",
    "    \"\"\"Evaluates the heaviside function, but returns integer values.\"\"\"\n",
    "    return heaviside(Y).astype(dtype=int)\n",
    "\n",
    "def gen_lin_discr_labels(points, theta, fun=heaviside_int):\n",
    "    \"\"\"\n",
    "    Given a set of points and the coefficients of a linear\n",
    "    discriminant, this function returns a set of labels for\n",
    "    the points with respect to this discriminant.\n",
    "    \"\"\"\n",
    "    score = lin_discr(points, theta)\n",
    "    labels = fun(score)\n",
    "    return labels\n",
    "\n"
   ]
  },
  {
   "cell_type": "code",
   "execution_count": 303,
   "metadata": {},
   "outputs": [],
   "source": [
    "test_labels_log=gen_lin_discr_labels(test_x,thetas,log_heav)\n",
    "test_lables_linear=gen_lin_discr_labels(test_x,thetas)\n"
   ]
  },
  {
   "cell_type": "code",
   "execution_count": 304,
   "metadata": {
    "collapsed": true
   },
   "outputs": [],
   "source": [
    "def get_accuracy(y_pred, y):\n",
    "    \n",
    "    assert len(y_pred) == len(y)\n",
    "    n = len(y)\n",
    "    Y = y\n",
    "    \n",
    "    count = 0\n",
    "    for i in range(n):\n",
    "        if y_pred[i] == Y[i]:\n",
    "            count+=1\n",
    "     \n",
    "    return round(((count/n)*100),2)"
   ]
  },
  {
   "cell_type": "code",
   "execution_count": 305,
   "metadata": {},
   "outputs": [
    {
     "name": "stdout",
     "output_type": "stream",
     "text": [
      "The accuracy with linear discriminant is 85.22\n",
      "The accuracy with logistic discriminant is 84.24\n"
     ]
    }
   ],
   "source": [
    "acc=get_accuracy(test_lables_linear,test_y.T.flatten())\n",
    "acc_log=get_accuracy(test_labels_log,test_y.T.flatten())\n",
    "print('The accuracy with linear discriminant is {}'.format(acc))\n",
    "print('The accuracy with logistic discriminant is {}'.format(acc_log))"
   ]
  },
  {
   "cell_type": "code",
   "execution_count": null,
   "metadata": {
    "collapsed": true
   },
   "outputs": [],
   "source": []
  },
  {
   "cell_type": "markdown",
   "metadata": {},
   "source": [
    "# Using sklearn's native logistic regression library to compare"
   ]
  },
  {
   "cell_type": "code",
   "execution_count": 306,
   "metadata": {
    "collapsed": true
   },
   "outputs": [],
   "source": [
    "from sklearn.model_selection import train_test_split"
   ]
  },
  {
   "cell_type": "code",
   "execution_count": 307,
   "metadata": {
    "collapsed": true
   },
   "outputs": [],
   "source": [
    "X_1=df.iloc[:,:-1]\n",
    "y_1=df.iloc[:,-1]\n"
   ]
  },
  {
   "cell_type": "code",
   "execution_count": 308,
   "metadata": {
    "collapsed": true
   },
   "outputs": [],
   "source": [
    "X1_train, X1_test, y1_train, y1_test = train_test_split(X_1, y_1, test_size=0.33, random_state=42)"
   ]
  },
  {
   "cell_type": "code",
   "execution_count": 309,
   "metadata": {
    "collapsed": true
   },
   "outputs": [],
   "source": [
    "from sklearn.linear_model import LogisticRegression"
   ]
  },
  {
   "cell_type": "code",
   "execution_count": 310,
   "metadata": {},
   "outputs": [],
   "source": [
    "linmodel = LogisticRegression(solver='liblinear')\n",
    "logmodel=LogisticRegression(multi_class='multinomial')\n",
    "lin_fit=linmodel.fit(X1_train,y1_train)\n",
    "log_fit=logmodel.fit(X1_train,y1_train)\n"
   ]
  },
  {
   "cell_type": "code",
   "execution_count": 311,
   "metadata": {},
   "outputs": [],
   "source": [
    "predictions_lin = linmodel.predict(X1_test)\n",
    "predictions_log = logmodel.predict(X1_test)"
   ]
  },
  {
   "cell_type": "code",
   "execution_count": 312,
   "metadata": {
    "collapsed": true
   },
   "outputs": [],
   "source": [
    "from sklearn.metrics import accuracy_score"
   ]
  },
  {
   "cell_type": "code",
   "execution_count": 313,
   "metadata": {},
   "outputs": [
    {
     "name": "stdout",
     "output_type": "stream",
     "text": [
      "the accuracy when using the linear discriminant model from the sklearn library is 0.8597014925373134\n",
      "the accuracy when using the logistic discriminant model from the sklearn library is 0.8388059701492537\n"
     ]
    }
   ],
   "source": [
    "print(\"the accuracy when using the linear discriminant model from the sklearn library is {}\".format( accuracy_score(y1_test,predictions_lin)))\n",
    "print(\"the accuracy when using the logistic discriminant model from the sklearn library is {}\".format( accuracy_score(y1_test,predictions_log)))"
   ]
  },
  {
   "cell_type": "code",
   "execution_count": null,
   "metadata": {
    "collapsed": true
   },
   "outputs": [],
   "source": []
  },
  {
   "cell_type": "code",
   "execution_count": null,
   "metadata": {
    "collapsed": true
   },
   "outputs": [],
   "source": []
  }
 ],
 "metadata": {
  "kernelspec": {
   "display_name": "Python 3.8",
   "language": "python",
   "name": "python38"
  },
  "language_info": {
   "codemirror_mode": {
    "name": "ipython",
    "version": 3
   },
   "file_extension": ".py",
   "mimetype": "text/x-python",
   "name": "python",
   "nbconvert_exporter": "python",
   "pygments_lexer": "ipython3",
   "version": "3.8.7"
  }
 },
 "nbformat": 4,
 "nbformat_minor": 2
}
